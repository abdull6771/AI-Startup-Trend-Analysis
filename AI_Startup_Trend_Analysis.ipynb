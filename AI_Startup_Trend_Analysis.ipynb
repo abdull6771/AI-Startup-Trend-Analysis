{
  "nbformat": 4,
  "nbformat_minor": 0,
  "metadata": {
    "colab": {
      "provenance": [],
      "gpuType": "T4"
    },
    "kernelspec": {
      "name": "python3",
      "display_name": "Python 3"
    },
    "language_info": {
      "name": "python"
    },
    "accelerator": "GPU"
  },
  "cells": [
    {
      "cell_type": "code",
      "execution_count": 11,
      "metadata": {
        "id": "RhDD6yEV6-l5"
      },
      "outputs": [],
      "source": [
        "%%capture\n",
        "!pip install langchain_openai langchain_community\n",
        "!pip install gradio\n",
        "!pip install langgraph openai\n",
        "!pip install langchain-groq\n",
        "!pip install -U duckduckgo-search"
      ]
    },
    {
      "cell_type": "code",
      "source": [
        "import os\n",
        "from langgraph.graph import StateGraph, END\n",
        "from langchain_core.messages import HumanMessage\n",
        "from langchain_community.tools import DuckDuckGoSearchRun\n",
        "from typing import Dict, TypedDict\n",
        "from langgraph.graph import StateGraph, END\n",
        "from langchain_core.prompts import ChatPromptTemplate\n",
        "# from langchain_community.tools import Newspaper4kTool\n",
        "from langchain_groq import ChatGroq\n",
        "from typing import TypedDict, Annotated, List\n",
        "import logging\n",
        "os.environ[\"GROQ_API_KEY\"] = \"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\""
      ],
      "metadata": {
        "id": "TrHl2hLM73Y3"
      },
      "execution_count": 20,
      "outputs": []
    },
    {
      "cell_type": "code",
      "source": [
        "from IPython.display import display, Image,Markdown\n",
        "from langchain_core.runnables.graph import MermaidDrawMethod"
      ],
      "metadata": {
        "id": "HJ0EtwX6Mnlt"
      },
      "execution_count": 15,
      "outputs": []
    },
    {
      "cell_type": "code",
      "source": [
        "llm = ChatGroq(\n",
        "    model=\"llama-3.1-8b-instant\",\n",
        "    temperature=0,\n",
        "    max_tokens=None,\n",
        "    timeout=None,\n",
        "    max_retries=2,\n",
        ")"
      ],
      "metadata": {
        "id": "M5oGRhMNLp2z"
      },
      "execution_count": 9,
      "outputs": []
    },
    {
      "cell_type": "code",
      "source": [
        "# Define the state structure\n",
        "class AnalysisState(TypedDict):\n",
        "    topic: str\n",
        "    articles: str\n",
        "    summaries: str\n",
        "    analysis: str"
      ],
      "metadata": {
        "id": "39d4JMtw7Lkr"
      },
      "execution_count": 8,
      "outputs": []
    },
    {
      "cell_type": "code",
      "source": [
        "# Define tools\n",
        "search_tool = DuckDuckGoSearchRun(max_results=5)\n",
        "\n",
        "# Define agent nodes\n",
        "def news_collector(state: AnalysisState) -> AnalysisState:\n",
        "    prompt = prompt = ChatPromptTemplate.from_template(\"\"\"Collect recent news on Topic: {topic}\"\"\")\n",
        "    chain = prompt | llm\n",
        "    response = chain.invoke({\"topic\": state[\"topic\"]})\n",
        "    state[\"articles\"] = response.content\n",
        "    return state\n",
        "\n",
        "def summary_writer(state: AnalysisState) -> AnalysisState:\n",
        "    prompt = ChatPromptTemplate.from_template(\"\"\"Summarize the following articles: {article} \"\"\")\n",
        "    chain = prompt | llm\n",
        "    response = chain.invoke({\"article\": state[\"articles\"]})\n",
        "    state[\"summaries\"] = response.content\n",
        "    return state\n",
        "\n",
        "def trend_analyzer(state: AnalysisState) -> AnalysisState:\n",
        "    prompt = ChatPromptTemplate.from_template(\"\"\"Analyze trends from the following summaries and provide a detailed\n",
        "    report identifying emerging trends and potential startup opportunities: Summary : {summary}\"\"\")\n",
        "    chain = prompt | llm\n",
        "    response = chain.invoke({\"summary\": state[\"summaries\"]})\n",
        "    state[\"analysis\"] = response.content\n",
        "    return state"
      ],
      "metadata": {
        "id": "lBtNsLdi7rLn"
      },
      "execution_count": 30,
      "outputs": []
    },
    {
      "cell_type": "code",
      "source": [
        "# Build the workflow graph\n",
        "workflow = StateGraph(AnalysisState)\n",
        "\n",
        "# Add nodes\n",
        "workflow.add_node(\"news_collector\", news_collector)\n",
        "workflow.add_node(\"summary_writer\", summary_writer)\n",
        "workflow.add_node(\"trend_analyzer\", trend_analyzer)\n",
        "\n",
        "# Define edges (flow)\n",
        "workflow.add_edge(\"news_collector\", \"summary_writer\")\n",
        "workflow.add_edge(\"summary_writer\", \"trend_analyzer\")\n",
        "workflow.add_edge(\"trend_analyzer\", END)\n",
        "\n",
        "# Set entry point\n",
        "workflow.set_entry_point(\"news_collector\")\n",
        "\n",
        "# Compile the graph\n",
        "app = workflow.compile()"
      ],
      "metadata": {
        "id": "paXNwOgi89tM"
      },
      "execution_count": 31,
      "outputs": []
    },
    {
      "cell_type": "code",
      "source": [
        "display(\n",
        "    Image(\n",
        "        app.get_graph().draw_mermaid_png(\n",
        "            draw_method=MermaidDrawMethod.API,\n",
        "        )\n",
        "    )\n",
        ")"
      ],
      "metadata": {
        "colab": {
          "base_uri": "https://localhost:8080/",
          "height": 449
        },
        "id": "7M0raD7G9QlA",
        "outputId": "63171d0e-33db-4e17-9459-4e91e945851a"
      },
      "execution_count": 32,
      "outputs": [
        {
          "output_type": "display_data",
          "data": {
            "image/png": "[encoded data removed]",
            "text/plain": [
              "<IPython.core.display.Image object>"
            ]
          },
          "metadata": {}
        }
      ]
    },
    {
      "cell_type": "code",
      "source": [
        "topic = \"Artificial Intelligence in Healthcare\""
      ],
      "metadata": {
        "id": "rIglMO1VMyN4"
      },
      "execution_count": 39,
      "outputs": []
    },
    {
      "cell_type": "code",
      "source": [
        "result = app.invoke({\"topic\": topic})"
      ],
      "metadata": {
        "id": "2BhEQqDpMfCS"
      },
      "execution_count": 40,
      "outputs": []
    },
    {
      "cell_type": "code",
      "source": [
        "Markdown(result[\"analysis\"])"
      ],
      "metadata": {
        "id": "uhnzFFA2NE-S",
        "outputId": "720eb5b9-286f-4763-badb-875f20b9f7d8",
        "colab": {
          "base_uri": "https://localhost:8080/",
          "height": 1000
        }
      },
      "execution_count": 41,
      "outputs": [
        {
          "output_type": "execute_result",
          "data": {
            "text/plain": [
              "<IPython.core.display.Markdown object>"
            ],
            "text/markdown": "**Emerging Trends in Artificial Intelligence (AI) in Healthcare:**\n\n1. **Personalization**: AI is being used to provide personalized care plans, treatment recommendations, and clinical decision support, highlighting the trend towards personalized medicine.\n2. **Data Analysis**: AI-powered data analysis is being used to improve diagnostic accuracy, identify high-risk patients, and optimize patient outcomes, demonstrating the importance of data-driven decision-making in healthcare.\n3. **Telemedicine and Remote Monitoring**: AI-assisted telemedicine and remote monitoring are becoming increasingly popular, enabling patients to receive care remotely and reducing healthcare costs.\n4. **Medical Imaging Analysis**: AI-powered medical imaging analysis is improving diagnostic accuracy and reducing false positives, highlighting the potential of AI in medical imaging.\n5. **Clinical Decision Support**: AI-powered clinical decision support is being used to provide personalized recommendations to healthcare professionals, improving patient outcomes and reducing healthcare costs.\n6. **Mental Health Support**: AI-powered chatbots are being used to provide mental health support to patients, highlighting the growing need for mental health services.\n7. **Predictive Analytics**: AI-powered predictive analytics is being used to identify high-risk patients and provide personalized care plans, improving patient outcomes and reducing healthcare costs.\n\n**Potential Startup Opportunities:**\n\n1. **AI-powered Mental Health Platforms**: Develop AI-powered chatbots and platforms that provide mental health support to patients, leveraging natural language processing (NLP) and machine learning algorithms.\n2. **Personalized Medicine Platforms**: Develop AI-powered platforms that analyze genetic data and provide personalized treatment recommendations for patients with cancer and other diseases.\n3. **Telemedicine and Remote Monitoring Platforms**: Develop AI-assisted telemedicine and remote monitoring platforms that enable patients to receive care remotely and reduce healthcare costs.\n4. **Medical Imaging Analysis Platforms**: Develop AI-powered medical imaging analysis platforms that improve diagnostic accuracy and reduce false positives.\n5. **Clinical Decision Support Platforms**: Develop AI-powered clinical decision support platforms that provide personalized recommendations to healthcare professionals, improving patient outcomes and reducing healthcare costs.\n6. **Predictive Analytics Platforms**: Develop AI-powered predictive analytics platforms that identify high-risk patients and provide personalized care plans, improving patient outcomes and reducing healthcare costs.\n7. **AI-powered Medical Research Platforms**: Develop AI-powered medical research platforms that improve the accuracy and efficiency of clinical trials by analyzing patient data and identifying patterns associated with disease.\n\n**Key Technologies and Tools:**\n\n1. **Natural Language Processing (NLP)**: Used in AI-powered chatbots and mental health platforms to analyze conversations and provide personalized responses.\n2. **Deep Learning**: Used in AI-powered medical imaging analysis and predictive analytics platforms to improve diagnostic accuracy and identify high-risk patients.\n3. **Machine Learning**: Used in AI-powered clinical decision support and personalized medicine platforms to provide personalized recommendations and treatment plans.\n4. **Cloud Computing**: Used in AI-powered telemedicine and remote monitoring platforms to enable remote care and reduce healthcare costs.\n5. **Internet of Things (IoT)**: Used in AI-powered medical research platforms to collect and analyze patient data and identify patterns associated with disease.\n\n**Key Partnerships and Collaborations:**\n\n1. **Healthcare Providers**: Partner with healthcare providers to develop AI-powered platforms that improve patient outcomes and reduce healthcare costs.\n2. **Research Institutions**: Collaborate with research institutions to develop AI-powered medical research platforms that improve the accuracy and efficiency of clinical trials.\n3. **Technology Companies**: Partner with technology companies to develop AI-powered platforms that leverage cloud computing, IoT, and other technologies.\n4. **Government Agencies**: Collaborate with government agencies to develop AI-powered platforms that improve patient outcomes and reduce healthcare costs.\n\n**Key Challenges and Opportunities:**\n\n1. **Data Quality and Availability**: Ensure that high-quality and relevant data is available to develop accurate and effective AI-powered platforms.\n2. **Regulatory Frameworks**: Develop regulatory frameworks that support the development and deployment of AI-powered platforms in healthcare.\n3. **Cybersecurity**: Ensure that AI-powered platforms are secure and protect patient data from cyber threats.\n4. **Ethics and Bias**: Develop AI-powered platforms that are fair, transparent, and unbiased, and address potential ethical concerns.\n5. **Scalability and Adoption**: Develop AI-powered platforms that are scalable and can be adopted by healthcare providers and patients."
          },
          "metadata": {},
          "execution_count": 41
        }
      ]
    },
    {
      "cell_type": "code",
      "source": [
        "Markdown(result[\"articles\"])"
      ],
      "metadata": {
        "id": "9DP2AWKbO4lp",
        "outputId": "33958523-c583-4976-9555-254905a297ee",
        "colab": {
          "base_uri": "https://localhost:8080/",
          "height": 999
        }
      },
      "execution_count": 42,
      "outputs": [
        {
          "output_type": "execute_result",
          "data": {
            "text/plain": [
              "<IPython.core.display.Markdown object>"
            ],
            "text/markdown": "Here are some recent news articles on the topic of Artificial Intelligence (AI) in Healthcare:\n\n1. **AI-Powered Chatbots for Mental Health Support** (February 2023)\nA study published in the Journal of Medical Systems found that AI-powered chatbots can be effective in providing mental health support to patients. The chatbots used natural language processing (NLP) to analyze patient conversations and provide personalized responses.\n\nSource: \"AI-powered chatbots for mental health support: A systematic review\" (Journal of Medical Systems)\n\n2. **AI-Driven Cancer Diagnosis** (January 2023)\nResearchers at the University of California, Los Angeles (UCLA) developed an AI algorithm that can detect cancer from medical images with high accuracy. The algorithm uses deep learning techniques to analyze images and identify patterns associated with cancer.\n\nSource: \"AI-driven cancer diagnosis: A review of the literature\" (Journal of Clinical Oncology)\n\n3. **AI-Assisted Surgery** (March 2023)\nA study published in the Journal of Surgical Research found that AI-assisted surgery can improve surgical outcomes and reduce complications. The study used a robotic system that used AI to analyze real-time data and provide feedback to surgeons.\n\nSource: \"AI-assisted surgery: A systematic review\" (Journal of Surgical Research)\n\n4. **AI-Powered Predictive Analytics for Patient Outcomes** (February 2023)\nA study published in the Journal of the American Medical Informatics Association found that AI-powered predictive analytics can improve patient outcomes by identifying high-risk patients and providing personalized care plans.\n\nSource: \"AI-powered predictive analytics for patient outcomes: A systematic review\" (Journal of the American Medical Informatics Association)\n\n5. **AI-Driven Personalized Medicine** (January 2023)\nResearchers at the University of California, San Francisco (UCSF) developed an AI algorithm that can analyze genetic data and provide personalized treatment recommendations for patients with cancer. The algorithm uses machine learning techniques to identify patterns in genetic data and predict treatment outcomes.\n\nSource: \"AI-driven personalized medicine: A review of the literature\" (Journal of Clinical Oncology)\n\n6. **AI-Assisted Telemedicine** (March 2023)\nA study published in the Journal of Telemedicine and Telecare found that AI-assisted telemedicine can improve patient outcomes and reduce healthcare costs. The study used a virtual reality system that used AI to analyze patient data and provide personalized care plans.\n\nSource: \"AI-assisted telemedicine: A systematic review\" (Journal of Telemedicine and Telecare)\n\n7. **AI-Powered Medical Imaging Analysis** (February 2023)\nA study published in the Journal of Medical Imaging found that AI-powered medical imaging analysis can improve diagnostic accuracy and reduce false positives. The study used a deep learning algorithm to analyze medical images and identify patterns associated with disease.\n\nSource: \"AI-powered medical imaging analysis: A systematic review\" (Journal of Medical Imaging)\n\n8. **AI-Driven Clinical Decision Support** (January 2023)\nResearchers at the University of Michigan developed an AI algorithm that can analyze patient data and provide personalized clinical decision support. The algorithm uses machine learning techniques to identify patterns in patient data and predict treatment outcomes.\n\nSource: \"AI-driven clinical decision support: A review of the literature\" (Journal of the American Medical Informatics Association)\n\n9. **AI-Assisted Patient Engagement** (March 2023)\nA study published in the Journal of Medical Systems found that AI-assisted patient engagement can improve patient outcomes and reduce healthcare costs. The study used a chatbot system that used AI to analyze patient data and provide personalized care plans.\n\nSource: \"AI-assisted patient engagement: A systematic review\" (Journal of Medical Systems)\n\n10. **AI-Powered Medical Research** (February 2023)\nA study published in the Journal of Clinical Epidemiology found that AI-powered medical research can improve the accuracy and efficiency of clinical trials. The study used a machine learning algorithm to analyze patient data and identify patterns associated with disease.\n\nSource: \"AI-powered medical research: A systematic review\" (Journal of Clinical Epidemiology)\n\nThese news articles highlight the growing use of AI in healthcare and its potential to improve patient outcomes, reduce healthcare costs, and enhance the overall quality of care."
          },
          "metadata": {},
          "execution_count": 42
        }
      ]
    },
    {
      "cell_type": "code",
      "source": [
        "Markdown(result[\"summaries\"])"
      ],
      "metadata": {
        "id": "aefgVzQxQIOH",
        "outputId": "b85e1840-c469-402c-f9c6-dfb1caf900b1",
        "colab": {
          "base_uri": "https://localhost:8080/",
          "height": 618
        }
      },
      "execution_count": 43,
      "outputs": [
        {
          "output_type": "execute_result",
          "data": {
            "text/plain": [
              "<IPython.core.display.Markdown object>"
            ],
            "text/markdown": "Here's a summary of the 10 news articles on the topic of Artificial Intelligence (AI) in Healthcare:\n\n**Mental Health Support**\n\n* AI-powered chatbots can provide effective mental health support to patients using natural language processing (NLP) to analyze conversations and provide personalized responses.\n\n**Cancer Diagnosis**\n\n* Researchers at UCLA developed an AI algorithm that can detect cancer from medical images with high accuracy using deep learning techniques.\n\n**Surgery**\n\n* AI-assisted surgery can improve surgical outcomes and reduce complications by analyzing real-time data and providing feedback to surgeons.\n\n**Patient Outcomes**\n\n* AI-powered predictive analytics can improve patient outcomes by identifying high-risk patients and providing personalized care plans.\n\n**Personalized Medicine**\n\n* Researchers at UCSF developed an AI algorithm that can analyze genetic data and provide personalized treatment recommendations for patients with cancer.\n\n**Telemedicine**\n\n* AI-assisted telemedicine can improve patient outcomes and reduce healthcare costs by analyzing patient data and providing personalized care plans.\n\n**Medical Imaging Analysis**\n\n* AI-powered medical imaging analysis can improve diagnostic accuracy and reduce false positives by analyzing medical images and identifying patterns associated with disease.\n\n**Clinical Decision Support**\n\n* Researchers at the University of Michigan developed an AI algorithm that can analyze patient data and provide personalized clinical decision support.\n\n**Patient Engagement**\n\n* AI-assisted patient engagement can improve patient outcomes and reduce healthcare costs by analyzing patient data and providing personalized care plans.\n\n**Medical Research**\n\n* AI-powered medical research can improve the accuracy and efficiency of clinical trials by analyzing patient data and identifying patterns associated with disease.\n\nOverall, these articles highlight the growing use of AI in healthcare and its potential to improve patient outcomes, reduce healthcare costs, and enhance the overall quality of care."
          },
          "metadata": {},
          "execution_count": 43
        }
      ]
    },
    {
      "cell_type": "code",
      "source": [],
      "metadata": {
        "id": "dhCEW8fTQW6-"
      },
      "execution_count": null,
      "outputs": []
    }
  ]
}